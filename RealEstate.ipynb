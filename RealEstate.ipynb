{
 "cells": [
  {
   "cell_type": "markdown",
   "id": "43722fe8ea7e3ac2",
   "metadata": {
    "collapsed": false
   },
   "source": [
    "## DataSet RealEstate"
   ]
  },
  {
   "cell_type": "markdown",
   "id": "473e245938bfd69d",
   "metadata": {
    "collapsed": false
   },
   "source": []
  },
  {
   "cell_type": "markdown",
   "id": "4f636b383a357843",
   "metadata": {
    "collapsed": false
   },
   "source": [
    "## Import Librairies"
   ]
  },
  {
   "cell_type": "code",
   "execution_count": 329,
   "id": "initial_id",
   "metadata": {
    "ExecuteTime": {
     "end_time": "2024-03-28T16:03:57.399607Z",
     "start_time": "2024-03-28T16:03:57.393656Z"
    },
    "collapsed": true
   },
   "outputs": [],
   "source": [
    "import pandas as pd\n",
    "import numpy as np\n",
    "from sklearn.cluster import KMeans\n",
    "from sklearn.linear_model import LinearRegression\n",
    "import matplotlib.pyplot as plt\n",
    "import seaborn as sns\n"
   ]
  },
  {
   "cell_type": "markdown",
   "id": "9e5db37376c38e7a",
   "metadata": {
    "collapsed": false
   },
   "source": [
    "#### Read CSV file"
   ]
  },
  {
   "cell_type": "code",
   "execution_count": 330,
   "id": "681302a7427bbad4",
   "metadata": {
    "ExecuteTime": {
     "end_time": "2024-03-28T16:04:07.200483Z",
     "start_time": "2024-03-28T16:03:57.415633Z"
    },
    "collapsed": false
   },
   "outputs": [
    {
     "name": "stderr",
     "output_type": "stream",
     "text": [
      "C:\\Users\\Utilisateur\\AppData\\Local\\Temp\\ipykernel_23140\\2431485172.py:1: DtypeWarning: Columns (7) have mixed types. Specify dtype option on import or set low_memory=False.\n",
      "  df= pd.read_csv(\"./src/france_total_real_estate_sales.csv\")\n"
     ]
    }
   ],
   "source": [
    "df= pd.read_csv(\"./src/france_total_real_estate_sales.csv\")\n"
   ]
  },
  {
   "cell_type": "markdown",
   "id": "f8e42cff50ba82e0",
   "metadata": {
    "collapsed": false
   },
   "source": [
    "View of existing columns :"
   ]
  },
  {
   "cell_type": "code",
   "execution_count": 331,
   "id": "47f4e43478c90af3",
   "metadata": {
    "ExecuteTime": {
     "end_time": "2024-03-28T16:04:07.210299Z",
     "start_time": "2024-03-28T16:04:07.201491Z"
    },
    "collapsed": false
   },
   "outputs": [
    {
     "data": {
      "text/plain": [
       "Index(['Date mutation', 'Nature mutation', 'Valeur fonciere', 'No voie',\n",
       "       'Code voie', 'Code postal', 'Commune', 'Code departement',\n",
       "       'Code commune', 'Section', 'No plan', 'Nombre de lots', 'Type local',\n",
       "       'Surface reelle bati', 'Nombre pieces principales', 'Surface terrain',\n",
       "       'Type_voie'],\n",
       "      dtype='object')"
      ]
     },
     "execution_count": 331,
     "metadata": {},
     "output_type": "execute_result"
    }
   ],
   "source": [
    "df.columns"
   ]
  },
  {
   "cell_type": "markdown",
   "id": "cd1f307c73d37ca8",
   "metadata": {
    "collapsed": false
   },
   "source": [
    "##### Drop unused columns :"
   ]
  },
  {
   "cell_type": "code",
   "execution_count": 332,
   "id": "b7ae9f020e29ae79",
   "metadata": {
    "ExecuteTime": {
     "end_time": "2024-03-28T16:04:07.650723Z",
     "start_time": "2024-03-28T16:04:07.212306Z"
    },
    "collapsed": false
   },
   "outputs": [
    {
     "data": {
      "text/html": [
       "<div>\n",
       "<style scoped>\n",
       "    .dataframe tbody tr th:only-of-type {\n",
       "        vertical-align: middle;\n",
       "    }\n",
       "\n",
       "    .dataframe tbody tr th {\n",
       "        vertical-align: top;\n",
       "    }\n",
       "\n",
       "    .dataframe thead th {\n",
       "        text-align: right;\n",
       "    }\n",
       "</style>\n",
       "<table border=\"1\" class=\"dataframe\">\n",
       "  <thead>\n",
       "    <tr style=\"text-align: right;\">\n",
       "      <th></th>\n",
       "      <th>Date mutation</th>\n",
       "      <th>Nature mutation</th>\n",
       "      <th>Valeur fonciere</th>\n",
       "      <th>Code postal</th>\n",
       "      <th>Commune</th>\n",
       "      <th>Code departement</th>\n",
       "      <th>Code commune</th>\n",
       "      <th>Nombre de lots</th>\n",
       "      <th>Type local</th>\n",
       "      <th>Surface reelle bati</th>\n",
       "      <th>Nombre pieces principales</th>\n",
       "      <th>Surface terrain</th>\n",
       "    </tr>\n",
       "  </thead>\n",
       "  <tbody>\n",
       "    <tr>\n",
       "      <th>0</th>\n",
       "      <td>03/01/2022</td>\n",
       "      <td>Vente</td>\n",
       "      <td>55000,00</td>\n",
       "      <td>1000.0</td>\n",
       "      <td>BOURG-EN-BRESSE</td>\n",
       "      <td>1</td>\n",
       "      <td>53</td>\n",
       "      <td>1</td>\n",
       "      <td>Appartement</td>\n",
       "      <td>24.0</td>\n",
       "      <td>1.0</td>\n",
       "      <td>NaN</td>\n",
       "    </tr>\n",
       "  </tbody>\n",
       "</table>\n",
       "</div>"
      ],
      "text/plain": [
       "  Date mutation Nature mutation Valeur fonciere  Code postal          Commune  \\\n",
       "0    03/01/2022           Vente        55000,00       1000.0  BOURG-EN-BRESSE   \n",
       "\n",
       "  Code departement  Code commune  Nombre de lots   Type local  \\\n",
       "0                1            53               1  Appartement   \n",
       "\n",
       "   Surface reelle bati  Nombre pieces principales  Surface terrain  \n",
       "0                 24.0                        1.0              NaN  "
      ]
     },
     "execution_count": 332,
     "metadata": {},
     "output_type": "execute_result"
    }
   ],
   "source": [
    "df.drop(columns=['No voie', 'Code voie','Section', 'No plan','Type_voie', 'Commune', 'Code postal'], inplace=True)\n",
    "df.head(1)"
   ]
  },
  {
   "cell_type": "markdown",
   "id": "9767d196",
   "metadata": {},
   "source": [
    "##### Rename used columns"
   ]
  },
  {
   "cell_type": "code",
   "execution_count": 333,
   "id": "e7449656",
   "metadata": {},
   "outputs": [
    {
     "data": {
      "text/html": [
       "<div>\n",
       "<style scoped>\n",
       "    .dataframe tbody tr th:only-of-type {\n",
       "        vertical-align: middle;\n",
       "    }\n",
       "\n",
       "    .dataframe tbody tr th {\n",
       "        vertical-align: top;\n",
       "    }\n",
       "\n",
       "    .dataframe thead th {\n",
       "        text-align: right;\n",
       "    }\n",
       "</style>\n",
       "<table border=\"1\" class=\"dataframe\">\n",
       "  <thead>\n",
       "    <tr style=\"text-align: right;\">\n",
       "      <th></th>\n",
       "      <th>Date_transaction</th>\n",
       "      <th>Transaction</th>\n",
       "      <th>Valeur_fonciere</th>\n",
       "      <th>Code_postal</th>\n",
       "      <th>Commune</th>\n",
       "      <th>Code_dep</th>\n",
       "      <th>Code_comm</th>\n",
       "      <th>Nb_lots</th>\n",
       "      <th>Type_local</th>\n",
       "      <th>Surface_bat</th>\n",
       "      <th>Nb_pieces</th>\n",
       "      <th>Surface_terr</th>\n",
       "    </tr>\n",
       "  </thead>\n",
       "  <tbody>\n",
       "    <tr>\n",
       "      <th>0</th>\n",
       "      <td>03/01/2022</td>\n",
       "      <td>Vente</td>\n",
       "      <td>55000,00</td>\n",
       "      <td>1000.0</td>\n",
       "      <td>BOURG-EN-BRESSE</td>\n",
       "      <td>1</td>\n",
       "      <td>53</td>\n",
       "      <td>1</td>\n",
       "      <td>Appartement</td>\n",
       "      <td>24.0</td>\n",
       "      <td>1.0</td>\n",
       "      <td>NaN</td>\n",
       "    </tr>\n",
       "    <tr>\n",
       "      <th>1</th>\n",
       "      <td>03/01/2022</td>\n",
       "      <td>Vente</td>\n",
       "      <td>143000,00</td>\n",
       "      <td>1480.0</td>\n",
       "      <td>SAVIGNEUX</td>\n",
       "      <td>1</td>\n",
       "      <td>398</td>\n",
       "      <td>0</td>\n",
       "      <td>NaN</td>\n",
       "      <td>NaN</td>\n",
       "      <td>NaN</td>\n",
       "      <td>84.0</td>\n",
       "    </tr>\n",
       "    <tr>\n",
       "      <th>2</th>\n",
       "      <td>03/01/2022</td>\n",
       "      <td>Vente</td>\n",
       "      <td>143000,00</td>\n",
       "      <td>1480.0</td>\n",
       "      <td>SAVIGNEUX</td>\n",
       "      <td>1</td>\n",
       "      <td>398</td>\n",
       "      <td>0</td>\n",
       "      <td>NaN</td>\n",
       "      <td>NaN</td>\n",
       "      <td>NaN</td>\n",
       "      <td>88.0</td>\n",
       "    </tr>\n",
       "    <tr>\n",
       "      <th>3</th>\n",
       "      <td>03/01/2022</td>\n",
       "      <td>Vente</td>\n",
       "      <td>143000,00</td>\n",
       "      <td>1480.0</td>\n",
       "      <td>SAVIGNEUX</td>\n",
       "      <td>1</td>\n",
       "      <td>398</td>\n",
       "      <td>1</td>\n",
       "      <td>Appartement</td>\n",
       "      <td>140.0</td>\n",
       "      <td>3.0</td>\n",
       "      <td>NaN</td>\n",
       "    </tr>\n",
       "    <tr>\n",
       "      <th>4</th>\n",
       "      <td>04/01/2022</td>\n",
       "      <td>Vente</td>\n",
       "      <td>300,00</td>\n",
       "      <td>1480.0</td>\n",
       "      <td>MESSIMY SUR SAONE</td>\n",
       "      <td>1</td>\n",
       "      <td>243</td>\n",
       "      <td>0</td>\n",
       "      <td>NaN</td>\n",
       "      <td>NaN</td>\n",
       "      <td>NaN</td>\n",
       "      <td>510.0</td>\n",
       "    </tr>\n",
       "  </tbody>\n",
       "</table>\n",
       "</div>"
      ],
      "text/plain": [
       "  Date_transaction Transaction Valeur_fonciere  Code_postal  \\\n",
       "0       03/01/2022       Vente        55000,00       1000.0   \n",
       "1       03/01/2022       Vente       143000,00       1480.0   \n",
       "2       03/01/2022       Vente       143000,00       1480.0   \n",
       "3       03/01/2022       Vente       143000,00       1480.0   \n",
       "4       04/01/2022       Vente          300,00       1480.0   \n",
       "\n",
       "             Commune Code_dep  Code_comm  Nb_lots   Type_local  Surface_bat  \\\n",
       "0    BOURG-EN-BRESSE        1         53        1  Appartement         24.0   \n",
       "1          SAVIGNEUX        1        398        0          NaN          NaN   \n",
       "2          SAVIGNEUX        1        398        0          NaN          NaN   \n",
       "3          SAVIGNEUX        1        398        1  Appartement        140.0   \n",
       "4  MESSIMY SUR SAONE        1        243        0          NaN          NaN   \n",
       "\n",
       "   Nb_pieces  Surface_terr  \n",
       "0        1.0           NaN  \n",
       "1        NaN          84.0  \n",
       "2        NaN          88.0  \n",
       "3        3.0           NaN  \n",
       "4        NaN         510.0  "
      ]
     },
     "execution_count": 333,
     "metadata": {},
     "output_type": "execute_result"
    }
   ],
   "source": [
    "df.rename(columns={\n",
    "    \"Date mutation\": \"Date_transaction\", \n",
    "    \"Nature mutation\": \"Transaction\", \n",
    "    \"Valeur fonciere\": \"Valeur_fonciere\", \n",
    "    \"Code departement\": \"Code_dep\",\n",
    "    \"Code commune\": \"Code_comm\",\n",
    "    \"Nombre de lots\": \"Nb_lots\",\n",
    "    \"Type local\": \"Type_local\",\n",
    "    \"Surface reelle bati\": \"Surface_bat\",\n",
    "    \"Nombre pieces principales\": \"Nb_pieces\",\n",
    "    \"Surface terrain\": \"Surface_terr\",\n",
    "    }, inplace=True)\n",
    "df.head()"
   ]
  },
  {
   "cell_type": "markdown",
   "id": "1220eb79",
   "metadata": {},
   "source": [
    "#### Filters and column selection"
   ]
  },
  {
   "cell_type": "code",
   "execution_count": 334,
   "id": "1676bc6fab099bc7",
   "metadata": {
    "ExecuteTime": {
     "end_time": "2024-03-28T16:04:07.657797Z",
     "start_time": "2024-03-28T16:04:07.652738Z"
    },
    "collapsed": false
   },
   "outputs": [
    {
     "data": {
      "text/plain": [
       "3803885"
      ]
     },
     "execution_count": 334,
     "metadata": {},
     "output_type": "execute_result"
    }
   ],
   "source": [
    "len(df)"
   ]
  },
  {
   "cell_type": "code",
   "execution_count": 343,
   "id": "8a6fcf9cfcc9a3b9",
   "metadata": {
    "ExecuteTime": {
     "end_time": "2024-03-28T16:04:09.926225Z",
     "start_time": "2024-03-28T16:04:07.658805Z"
    },
    "collapsed": false
   },
   "outputs": [
    {
     "data": {
      "text/html": [
       "<div>\n",
       "<style scoped>\n",
       "    .dataframe tbody tr th:only-of-type {\n",
       "        vertical-align: middle;\n",
       "    }\n",
       "\n",
       "    .dataframe tbody tr th {\n",
       "        vertical-align: top;\n",
       "    }\n",
       "\n",
       "    .dataframe thead th {\n",
       "        text-align: right;\n",
       "    }\n",
       "</style>\n",
       "<table border=\"1\" class=\"dataframe\">\n",
       "  <thead>\n",
       "    <tr style=\"text-align: right;\">\n",
       "      <th></th>\n",
       "      <th>Date_transaction</th>\n",
       "      <th>Transaction</th>\n",
       "      <th>Valeur_fonciere</th>\n",
       "      <th>Code_postal</th>\n",
       "      <th>Commune</th>\n",
       "      <th>Code_dep</th>\n",
       "      <th>Code_comm</th>\n",
       "      <th>Nb_lots</th>\n",
       "      <th>Type_local</th>\n",
       "      <th>Surface_bat</th>\n",
       "      <th>Nb_pieces</th>\n",
       "      <th>Surface_terr</th>\n",
       "    </tr>\n",
       "  </thead>\n",
       "  <tbody>\n",
       "    <tr>\n",
       "      <th>3803880</th>\n",
       "      <td>2022-12-30</td>\n",
       "      <td>Vente</td>\n",
       "      <td>3500000,00</td>\n",
       "      <td>75014.0</td>\n",
       "      <td>PARIS 14</td>\n",
       "      <td>75</td>\n",
       "      <td>114</td>\n",
       "      <td>1</td>\n",
       "      <td>Local industriel. commercial ou assimilé</td>\n",
       "      <td>327.0</td>\n",
       "      <td>0</td>\n",
       "      <td>0.0</td>\n",
       "    </tr>\n",
       "    <tr>\n",
       "      <th>3803881</th>\n",
       "      <td>2022-12-19</td>\n",
       "      <td>Vente</td>\n",
       "      <td>525000,00</td>\n",
       "      <td>75015.0</td>\n",
       "      <td>PARIS 15</td>\n",
       "      <td>75</td>\n",
       "      <td>115</td>\n",
       "      <td>2</td>\n",
       "      <td>Dépendance</td>\n",
       "      <td>0.0</td>\n",
       "      <td>0</td>\n",
       "      <td>0.0</td>\n",
       "    </tr>\n",
       "    <tr>\n",
       "      <th>3803882</th>\n",
       "      <td>2022-12-19</td>\n",
       "      <td>Vente</td>\n",
       "      <td>525000,00</td>\n",
       "      <td>75015.0</td>\n",
       "      <td>PARIS 15</td>\n",
       "      <td>75</td>\n",
       "      <td>115</td>\n",
       "      <td>2</td>\n",
       "      <td>Appartement</td>\n",
       "      <td>40.0</td>\n",
       "      <td>3</td>\n",
       "      <td>0.0</td>\n",
       "    </tr>\n",
       "    <tr>\n",
       "      <th>3803883</th>\n",
       "      <td>2022-12-30</td>\n",
       "      <td>Vente</td>\n",
       "      <td>15500,00</td>\n",
       "      <td>75013.0</td>\n",
       "      <td>PARIS 13</td>\n",
       "      <td>75</td>\n",
       "      <td>113</td>\n",
       "      <td>1</td>\n",
       "      <td>Dépendance</td>\n",
       "      <td>0.0</td>\n",
       "      <td>0</td>\n",
       "      <td>0.0</td>\n",
       "    </tr>\n",
       "    <tr>\n",
       "      <th>3803884</th>\n",
       "      <td>2022-11-21</td>\n",
       "      <td>Vente</td>\n",
       "      <td>30000,00</td>\n",
       "      <td>75011.0</td>\n",
       "      <td>PARIS 11</td>\n",
       "      <td>75</td>\n",
       "      <td>111</td>\n",
       "      <td>1</td>\n",
       "      <td>Dépendance</td>\n",
       "      <td>0.0</td>\n",
       "      <td>0</td>\n",
       "      <td>0.0</td>\n",
       "    </tr>\n",
       "  </tbody>\n",
       "</table>\n",
       "</div>"
      ],
      "text/plain": [
       "        Date_transaction Transaction Valeur_fonciere Code_postal   Commune  \\\n",
       "3803880       2022-12-30       Vente      3500000,00     75014.0  PARIS 14   \n",
       "3803881       2022-12-19       Vente       525000,00     75015.0  PARIS 15   \n",
       "3803882       2022-12-19       Vente       525000,00     75015.0  PARIS 15   \n",
       "3803883       2022-12-30       Vente        15500,00     75013.0  PARIS 13   \n",
       "3803884       2022-11-21       Vente        30000,00     75011.0  PARIS 11   \n",
       "\n",
       "        Code_dep Code_comm  Nb_lots                                Type_local  \\\n",
       "3803880       75       114        1  Local industriel. commercial ou assimilé   \n",
       "3803881       75       115        2                                Dépendance   \n",
       "3803882       75       115        2                               Appartement   \n",
       "3803883       75       113        1                                Dépendance   \n",
       "3803884       75       111        1                                Dépendance   \n",
       "\n",
       "         Surface_bat  Nb_pieces  Surface_terr  \n",
       "3803880        327.0          0           0.0  \n",
       "3803881          0.0          0           0.0  \n",
       "3803882         40.0          3           0.0  \n",
       "3803883          0.0          0           0.0  \n",
       "3803884          0.0          0           0.0  "
      ]
     },
     "execution_count": 343,
     "metadata": {},
     "output_type": "execute_result"
    }
   ],
   "source": [
    "df['Transaction']=df['Transaction'][df['Transaction'].str.contains('Vente')]\n",
    "df.tail()"
   ]
  },
  {
   "cell_type": "code",
   "execution_count": 336,
   "id": "a41d0c6c18832391",
   "metadata": {
    "ExecuteTime": {
     "end_time": "2024-03-28T16:04:28.289613Z",
     "start_time": "2024-03-28T16:04:28.176703Z"
    },
    "collapsed": false
   },
   "outputs": [
    {
     "data": {
      "text/plain": [
       "array(['Vente', \"Vente en l'état futur d'achèvement\",\n",
       "       'Vente terrain à bâtir'], dtype=object)"
      ]
     },
     "metadata": {},
     "output_type": "display_data"
    }
   ],
   "source": [
    "df = df[df['Transaction'].notna()]\n",
    "display(df['Transaction'].unique())"
   ]
  },
  {
   "cell_type": "markdown",
   "id": "8263b82b",
   "metadata": {},
   "source": [
    "#### Column data types"
   ]
  },
  {
   "cell_type": "code",
   "execution_count": 344,
   "id": "d7bc9ac5",
   "metadata": {},
   "outputs": [
    {
     "data": {
      "text/plain": [
       "(3224231, 12)"
      ]
     },
     "execution_count": 344,
     "metadata": {},
     "output_type": "execute_result"
    }
   ],
   "source": [
    "#to date\n",
    "df['Date_transaction'] = pd.to_datetime(df['Date_transaction'], format=\"mixed\")\n",
    "#to str\n",
    "df['Transaction'] = df[\"Transaction\"].astype(\"string\")\n",
    "# df['Code_postal'] = df[\"Code_postal\"].astype(\"string\")\n",
    "df[\"Code_dep\"] = df[\"Code_dep\"].astype(\"string\").str.zfill(2)\n",
    "# df['Commune'] = df[\"Commune\"].astype(\"string\").str.zfill(2)\n",
    "df['Code_comm'] = df[\"Code_comm\"].astype(\"string\")\n",
    "df['Type_local'] = df[\"Type_local\"].astype(\"string\")\n",
    "\n",
    "#valeur fonciere \n",
    "# df[\"Valeur_fonciere\"] = pd.to_numeric(df[\"Valeur_fonciere\"], errors='ignore')\n",
    "\n",
    "#to int\n",
    "df[\"Nb_pieces\"] = df['Nb_pieces'].astype(pd.Int32Dtype()) \n"
   ]
  },
  {
   "cell_type": "code",
   "execution_count": 338,
   "id": "2cfb17f2",
   "metadata": {},
   "outputs": [
    {
     "name": "stdout",
     "output_type": "stream",
     "text": [
      "517603\n"
     ]
    }
   ],
   "source": [
    "df['Surface_terr'].replace(np.nan, 0, inplace=True)\n",
    "\n",
    "df = df[df['Valeur_fonciere'].notna()]\n",
    "\n",
    "doublons = df.duplicated(subset=['Date_transaction', 'Transaction', 'Valeur_fonciere', 'Code_dep', 'Code_comm', 'Nb_lots', 'Type_local','Surface_bat', 'Nb_pieces', 'Surface_terr']).sum()\n",
    "print(doublons)\n",
    "\n",
    "df = df.drop_duplicates()"
   ]
  },
  {
   "cell_type": "code",
   "execution_count": 339,
   "id": "ffdca5986680cba2",
   "metadata": {
    "ExecuteTime": {
     "end_time": "2024-03-28T16:04:11.945072Z",
     "start_time": "2024-03-28T16:04:09.980539Z"
    },
    "collapsed": false
   },
   "outputs": [
    {
     "name": "stdout",
     "output_type": "stream",
     "text": [
      "                    Date_transaction       Nb_lots   Surface_bat  Nb_pieces  \\\n",
      "count                        3224231  3.224231e+06  1.904158e+06  1904158.0   \n",
      "mean   2022-06-23 23:25:39.545151744  4.456322e-01  7.509107e+01    2.03463   \n",
      "min              2022-01-01 00:00:00  0.000000e+00  0.000000e+00        0.0   \n",
      "25%              2022-03-29 00:00:00  0.000000e+00  0.000000e+00        0.0   \n",
      "50%              2022-06-23 00:00:00  0.000000e+00  4.600000e+01        2.0   \n",
      "75%              2022-09-20 00:00:00  1.000000e+00  8.800000e+01        4.0   \n",
      "max              2022-12-31 00:00:00  1.880000e+02  2.517250e+05       90.0   \n",
      "std                              NaN  8.775184e-01  5.558521e+02   2.121009   \n",
      "\n",
      "       Surface_terr  \n",
      "count  3.224231e+06  \n",
      "mean   1.818689e+03  \n",
      "min    0.000000e+00  \n",
      "25%    0.000000e+00  \n",
      "50%    2.700000e+02  \n",
      "75%    9.360000e+02  \n",
      "max    4.625500e+06  \n",
      "std    1.218759e+04  \n",
      "<bound method DataFrame.info of         Date_transaction Transaction Valeur_fonciere Code_postal  \\\n",
      "0             2022-03-01       Vente        55000,00      1000.0   \n",
      "1             2022-03-01       Vente       143000,00      1480.0   \n",
      "2             2022-03-01       Vente       143000,00      1480.0   \n",
      "3             2022-03-01       Vente       143000,00      1480.0   \n",
      "4             2022-04-01       Vente          300,00      1480.0   \n",
      "...                  ...         ...             ...         ...   \n",
      "3803880       2022-12-30       Vente      3500000,00     75014.0   \n",
      "3803881       2022-12-19       Vente       525000,00     75015.0   \n",
      "3803882       2022-12-19       Vente       525000,00     75015.0   \n",
      "3803883       2022-12-30       Vente        15500,00     75013.0   \n",
      "3803884       2022-11-21       Vente        30000,00     75011.0   \n",
      "\n",
      "                   Commune Code_dep Code_comm  Nb_lots  \\\n",
      "0          BOURG-EN-BRESSE       01        53        1   \n",
      "1                SAVIGNEUX       01       398        0   \n",
      "2                SAVIGNEUX       01       398        0   \n",
      "3                SAVIGNEUX       01       398        1   \n",
      "4        MESSIMY SUR SAONE       01       243        0   \n",
      "...                    ...      ...       ...      ...   \n",
      "3803880           PARIS 14       75       114        1   \n",
      "3803881           PARIS 15       75       115        2   \n",
      "3803882           PARIS 15       75       115        2   \n",
      "3803883           PARIS 13       75       113        1   \n",
      "3803884           PARIS 11       75       111        1   \n",
      "\n",
      "                                       Type_local  Surface_bat  Nb_pieces  \\\n",
      "0                                     Appartement         24.0          1   \n",
      "1                                            <NA>          NaN       <NA>   \n",
      "2                                            <NA>          NaN       <NA>   \n",
      "3                                     Appartement        140.0          3   \n",
      "4                                            <NA>          NaN       <NA>   \n",
      "...                                           ...          ...        ...   \n",
      "3803880  Local industriel. commercial ou assimilé        327.0          0   \n",
      "3803881                                Dépendance          0.0          0   \n",
      "3803882                               Appartement         40.0          3   \n",
      "3803883                                Dépendance          0.0          0   \n",
      "3803884                                Dépendance          0.0          0   \n",
      "\n",
      "         Surface_terr  \n",
      "0                 0.0  \n",
      "1                84.0  \n",
      "2                88.0  \n",
      "3                 0.0  \n",
      "4               510.0  \n",
      "...               ...  \n",
      "3803880           0.0  \n",
      "3803881           0.0  \n",
      "3803882           0.0  \n",
      "3803883           0.0  \n",
      "3803884           0.0  \n",
      "\n",
      "[3224231 rows x 12 columns]>\n",
      "[dtype('<M8[ns]') string[python] dtype('O') dtype('int64')\n",
      " dtype('float64') Int32Dtype()]\n"
     ]
    }
   ],
   "source": [
    "print(df.describe())\n",
    "print(df.info)\n",
    "print(df.dtypes.unique())"
   ]
  },
  {
   "cell_type": "markdown",
   "id": "bad416f3",
   "metadata": {},
   "source": [
    "Exploration"
   ]
  },
  {
   "cell_type": "code",
   "execution_count": 340,
   "id": "f769a574",
   "metadata": {},
   "outputs": [
    {
     "data": {
      "text/plain": [
       "<Axes: ylabel='count'>"
      ]
     },
     "execution_count": 340,
     "metadata": {},
     "output_type": "execute_result"
    },
    {
     "data": {
      "image/png": "[encoded data removed]",
      "text/plain": [
       "<Figure size 640x480 with 1 Axes>"
      ]
     },
     "metadata": {},
     "output_type": "display_data"
    }
   ],
   "source": [
    "df.dtypes.value_counts().plot.pie(autopct='%1.1f%%')"
   ]
  },
  {
   "cell_type": "code",
   "execution_count": 341,
   "id": "28b0b8df",
   "metadata": {},
   "outputs": [
    {
     "name": "stdout",
     "output_type": "stream",
     "text": [
      "Colonne avec des valeurs manquantes : \n",
      "Code_postal      16166\n",
      "Type_local     1318331\n",
      "Surface_bat    1320073\n",
      "Nb_pieces      1320073\n",
      "dtype: int64\n",
      "Colonne avec des valeurs manquantes : \n",
      "Type_local     1318331\n",
      "Surface_bat    1320073\n",
      "Nb_pieces      1320073\n",
      "dtype: int64\n"
     ]
    }
   ],
   "source": [
    "missing_values = df.isna().sum()\n",
    "missing_values = missing_values[missing_values > 0]\n",
    "missing_values_df = missing_values[missing_values > len(df) * 0.15]\n",
    "print(f\"Colonne avec des valeurs manquantes : \\n{missing_values}\")\n",
    "print(f\"Colonne avec des valeurs manquantes : \\n{missing_values_df}\")\n",
    "# df.drop(missing_values_df[missing_values_df > len(df) * 0.95].index, axis=1, inplace=True)"
   ]
  },
  {
   "cell_type": "code",
   "execution_count": 342,
   "id": "008cb206",
   "metadata": {},
   "outputs": [
    {
     "data": {
      "image/png": "[encoded data removed]",
      "text/plain": [
       "<Figure size 1000x700 with 1 Axes>"
      ]
     },
     "metadata": {},
     "output_type": "display_data"
    }
   ],
   "source": [
    "# Sel col numriques\n",
    "df_num = df.select_dtypes(include=[\"float64\", \"int64\", \"int32\"])\n",
    "\n",
    "# Coefficient de corrélation\n",
    "correlation = df_num.corr()\n",
    "\n",
    "# Heatmap\n",
    "fig, ax = plt.subplots(figsize=(10, 7))\n",
    "im = ax.imshow(correlation.values)\n",
    "\n",
    "# Etiquettes des colonnes\n",
    "ax.set_xticks(np.arange(len(correlation.columns)))\n",
    "ax.set_yticks(np.arange(len(correlation.columns)))\n",
    "ax.set_xticklabels(correlation.columns)\n",
    "ax.set_yticklabels(correlation.columns)\n",
    "plt.setp(ax.get_xticklabels(), rotation=45, ha=\"right\", rotation_mode=\"anchor\")\n",
    "\n",
    "# Annotations\n",
    "for i in range(len(correlation.columns)):\n",
    "    for j in range(len(correlation.columns)):\n",
    "        text = ax.text(j, i, np.round(correlation.iloc[i, j], 2), ha=\"center\", va=\"center\", color=\"black\")\n",
    "\n",
    "plt.show()"
   ]
  }
 ],
 "metadata": {
  "kernelspec": {
   "display_name": "Python 3",
   "language": "python",
   "name": "python3"
  },
  "language_info": {
   "codemirror_mode": {
    "name": "ipython",
    "version": 3
   },
   "file_extension": ".py",
   "mimetype": "text/x-python",
   "name": "python",
   "nbconvert_exporter": "python",
   "pygments_lexer": "ipython3",
   "version": "3.12.0"
  }
 },
 "nbformat": 4,
 "nbformat_minor": 5
}
