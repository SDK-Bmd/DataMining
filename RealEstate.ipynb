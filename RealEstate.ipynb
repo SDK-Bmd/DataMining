{
 "cells": [
  {
   "cell_type": "markdown",
   "source": [
    "## DataSet RealEstate"
   ],
   "metadata": {
    "collapsed": false
   },
   "id": "43722fe8ea7e3ac2"
  },
  {
   "cell_type": "markdown",
   "source": [],
   "metadata": {
    "collapsed": false
   },
   "id": "473e245938bfd69d"
  },
  {
   "cell_type": "markdown",
   "source": [
    "## Import Librairies"
   ],
   "metadata": {
    "collapsed": false
   },
   "id": "4f636b383a357843"
  },
  {
   "cell_type": "code",
   "outputs": [],
   "source": [
    "import pandas as pd\n",
    "import numpy as np\n",
    "from sklearn.cluster import KMeans\n",
    "from sklearn.linear_model import LinearRegression\n",
    "import matplotlib.pyplot as plt\n",
    "import seaborn as sns\n"
   ],
   "metadata": {
    "collapsed": true,
    "ExecuteTime": {
     "end_time": "2024-03-28T16:03:57.399607Z",
     "start_time": "2024-03-28T16:03:57.393656Z"
    }
   },
   "id": "initial_id",
   "execution_count": 108
  },
  {
   "cell_type": "markdown",
   "source": [
    "#### Read CSV file"
   ],
   "metadata": {
    "collapsed": false
   },
   "id": "9e5db37376c38e7a"
  },
  {
   "cell_type": "code",
   "outputs": [
    {
     "name": "stderr",
     "output_type": "stream",
     "text": [
      "C:\\Users\\lemar\\AppData\\Local\\Temp\\ipykernel_29776\\841075595.py:1: DtypeWarning: Columns (7) have mixed types. Specify dtype option on import or set low_memory=False.\n",
      "  df= pd.read_csv(\"france_total_real_estate_sales.csv\")\n"
     ]
    }
   ],
   "source": [
    "df= pd.read_csv(\"france_total_real_estate_sales.csv\")\n"
   ],
   "metadata": {
    "collapsed": false,
    "ExecuteTime": {
     "end_time": "2024-03-28T16:04:07.200483Z",
     "start_time": "2024-03-28T16:03:57.415633Z"
    }
   },
   "id": "681302a7427bbad4",
   "execution_count": 109
  },
  {
   "cell_type": "markdown",
   "source": [
    "View of existing columns :"
   ],
   "metadata": {
    "collapsed": false
   },
   "id": "f8e42cff50ba82e0"
  },
  {
   "cell_type": "code",
   "outputs": [
    {
     "data": {
      "text/plain": "Index(['Date mutation', 'Nature mutation', 'Valeur fonciere', 'No voie',\n       'Code voie', 'Code postal', 'Commune', 'Code departement',\n       'Code commune', 'Section', 'No plan', 'Nombre de lots', 'Type local',\n       'Surface reelle bati', 'Nombre pieces principales', 'Surface terrain',\n       'Type_voie'],\n      dtype='object')"
     },
     "execution_count": 110,
     "metadata": {},
     "output_type": "execute_result"
    }
   ],
   "source": [
    "df.columns"
   ],
   "metadata": {
    "collapsed": false,
    "ExecuteTime": {
     "end_time": "2024-03-28T16:04:07.210299Z",
     "start_time": "2024-03-28T16:04:07.201491Z"
    }
   },
   "id": "47f4e43478c90af3",
   "execution_count": 110
  },
  {
   "cell_type": "markdown",
   "source": [
    "##### Drop unused columns :"
   ],
   "metadata": {
    "collapsed": false
   },
   "id": "cd1f307c73d37ca8"
  },
  {
   "cell_type": "code",
   "outputs": [],
   "source": [
    "df.drop(columns=['No voie', 'Code voie','Section', 'No plan','Type_voie'], inplace=True)\n"
   ],
   "metadata": {
    "collapsed": false,
    "ExecuteTime": {
     "end_time": "2024-03-28T16:04:07.650723Z",
     "start_time": "2024-03-28T16:04:07.212306Z"
    }
   },
   "id": "b7ae9f020e29ae79",
   "execution_count": 111
  },
  {
   "cell_type": "code",
   "outputs": [
    {
     "data": {
      "text/plain": "3803885"
     },
     "execution_count": 112,
     "metadata": {},
     "output_type": "execute_result"
    }
   ],
   "source": [
    "len(df)"
   ],
   "metadata": {
    "collapsed": false,
    "ExecuteTime": {
     "end_time": "2024-03-28T16:04:07.657797Z",
     "start_time": "2024-03-28T16:04:07.652738Z"
    }
   },
   "id": "1676bc6fab099bc7",
   "execution_count": 112
  },
  {
   "cell_type": "code",
   "outputs": [],
   "source": [
    "df['Nature mutation']=df['Nature mutation'][df['Nature mutation'].str.contains('Vente')]"
   ],
   "metadata": {
    "collapsed": false,
    "ExecuteTime": {
     "end_time": "2024-03-28T16:04:09.926225Z",
     "start_time": "2024-03-28T16:04:07.658805Z"
    }
   },
   "id": "8a6fcf9cfcc9a3b9",
   "execution_count": 113
  },
  {
   "cell_type": "code",
   "outputs": [
    {
     "data": {
      "text/plain": "array(['Vente', \"Vente en l'état futur d'achèvement\", nan,\n       'Vente terrain à bâtir'], dtype=object)"
     },
     "execution_count": 117,
     "metadata": {},
     "output_type": "execute_result"
    }
   ],
   "source": [
    "df['Nature mutation'].dropna(inplace=True)"
   ],
   "metadata": {
    "collapsed": false,
    "ExecuteTime": {
     "end_time": "2024-03-28T16:04:28.289613Z",
     "start_time": "2024-03-28T16:04:28.176703Z"
    }
   },
   "id": "a41d0c6c18832391",
   "execution_count": 117
  },
  {
   "cell_type": "code",
   "outputs": [
    {
     "name": "stdout",
     "output_type": "stream",
     "text": [
      "<class 'pandas.core.frame.DataFrame'>\n",
      "RangeIndex: 3803885 entries, 0 to 3803884\n",
      "Data columns (total 12 columns):\n",
      " #   Column                     Dtype  \n",
      "---  ------                     -----  \n",
      " 0   Date mutation              object \n",
      " 1   Nature mutation            object \n",
      " 2   Valeur fonciere            object \n",
      " 3   Code postal                float64\n",
      " 4   Commune                    object \n",
      " 5   Code departement           object \n",
      " 6   Code commune               int64  \n",
      " 7   Nombre de lots             int64  \n",
      " 8   Type local                 object \n",
      " 9   Surface reelle bati        float64\n",
      " 10  Nombre pieces principales  float64\n",
      " 11  Surface terrain            float64\n",
      "dtypes: float64(4), int64(2), object(6)\n",
      "memory usage: 348.3+ MB\n"
     ]
    }
   ],
   "source": [
    "df.info()"
   ],
   "metadata": {
    "collapsed": false,
    "ExecuteTime": {
     "end_time": "2024-03-28T16:04:09.978525Z",
     "start_time": "2024-03-28T16:04:09.960538Z"
    }
   },
   "id": "31f733b1d17f3ce1",
   "execution_count": 115
  },
  {
   "cell_type": "code",
   "outputs": [
    {
     "data": {
      "text/plain": "        Code postal  Code commune  Nombre de lots  Surface reelle bati  \\\ncount  3.764712e+06  3.803885e+06    3.803885e+06         2.283343e+06   \nmean   5.108660e+04  2.063362e+02    4.712206e-01         6.475469e+01   \nstd    2.745389e+04  1.656967e+02    8.754527e-01         5.476260e+02   \nmin    1.000000e+03  1.000000e+00    0.000000e+00         0.000000e+00   \n25%    3.012600e+04  7.500000e+01    0.000000e+00         0.000000e+00   \n50%    4.946000e+04  1.710000e+02    0.000000e+00         3.000000e+01   \n75%    7.610000e+04  2.940000e+02    1.000000e+00         8.000000e+01   \nmax    9.749000e+04  9.090000e+02    1.880000e+02         2.900000e+05   \n\n       Nombre pieces principales  Surface terrain  \ncount               2.283343e+06     2.516996e+06  \nmean                1.757658e+00     2.655631e+03  \nstd                 2.077233e+00     1.605604e+04  \nmin                 0.000000e+00     0.000000e+00  \n25%                 0.000000e+00     2.400000e+02  \n50%                 1.000000e+00     5.910000e+02  \n75%                 3.000000e+00     1.550000e+03  \nmax                 9.000000e+01     4.625500e+06  ",
      "text/html": "<div>\n<style scoped>\n    .dataframe tbody tr th:only-of-type {\n        vertical-align: middle;\n    }\n\n    .dataframe tbody tr th {\n        vertical-align: top;\n    }\n\n    .dataframe thead th {\n        text-align: right;\n    }\n</style>\n<table border=\"1\" class=\"dataframe\">\n  <thead>\n    <tr style=\"text-align: right;\">\n      <th></th>\n      <th>Code postal</th>\n      <th>Code commune</th>\n      <th>Nombre de lots</th>\n      <th>Surface reelle bati</th>\n      <th>Nombre pieces principales</th>\n      <th>Surface terrain</th>\n    </tr>\n  </thead>\n  <tbody>\n    <tr>\n      <th>count</th>\n      <td>3.764712e+06</td>\n      <td>3.803885e+06</td>\n      <td>3.803885e+06</td>\n      <td>2.283343e+06</td>\n      <td>2.283343e+06</td>\n      <td>2.516996e+06</td>\n    </tr>\n    <tr>\n      <th>mean</th>\n      <td>5.108660e+04</td>\n      <td>2.063362e+02</td>\n      <td>4.712206e-01</td>\n      <td>6.475469e+01</td>\n      <td>1.757658e+00</td>\n      <td>2.655631e+03</td>\n    </tr>\n    <tr>\n      <th>std</th>\n      <td>2.745389e+04</td>\n      <td>1.656967e+02</td>\n      <td>8.754527e-01</td>\n      <td>5.476260e+02</td>\n      <td>2.077233e+00</td>\n      <td>1.605604e+04</td>\n    </tr>\n    <tr>\n      <th>min</th>\n      <td>1.000000e+03</td>\n      <td>1.000000e+00</td>\n      <td>0.000000e+00</td>\n      <td>0.000000e+00</td>\n      <td>0.000000e+00</td>\n      <td>0.000000e+00</td>\n    </tr>\n    <tr>\n      <th>25%</th>\n      <td>3.012600e+04</td>\n      <td>7.500000e+01</td>\n      <td>0.000000e+00</td>\n      <td>0.000000e+00</td>\n      <td>0.000000e+00</td>\n      <td>2.400000e+02</td>\n    </tr>\n    <tr>\n      <th>50%</th>\n      <td>4.946000e+04</td>\n      <td>1.710000e+02</td>\n      <td>0.000000e+00</td>\n      <td>3.000000e+01</td>\n      <td>1.000000e+00</td>\n      <td>5.910000e+02</td>\n    </tr>\n    <tr>\n      <th>75%</th>\n      <td>7.610000e+04</td>\n      <td>2.940000e+02</td>\n      <td>1.000000e+00</td>\n      <td>8.000000e+01</td>\n      <td>3.000000e+00</td>\n      <td>1.550000e+03</td>\n    </tr>\n    <tr>\n      <th>max</th>\n      <td>9.749000e+04</td>\n      <td>9.090000e+02</td>\n      <td>1.880000e+02</td>\n      <td>2.900000e+05</td>\n      <td>9.000000e+01</td>\n      <td>4.625500e+06</td>\n    </tr>\n  </tbody>\n</table>\n</div>"
     },
     "execution_count": 116,
     "metadata": {},
     "output_type": "execute_result"
    }
   ],
   "source": [
    "df.describe()"
   ],
   "metadata": {
    "collapsed": false,
    "ExecuteTime": {
     "end_time": "2024-03-28T16:04:11.945072Z",
     "start_time": "2024-03-28T16:04:09.980539Z"
    }
   },
   "id": "ffdca5986680cba2",
   "execution_count": 116
  }
 ],
 "metadata": {
  "kernelspec": {
   "display_name": "Python 3",
   "language": "python",
   "name": "python3"
  },
  "language_info": {
   "codemirror_mode": {
    "name": "ipython",
    "version": 2
   },
   "file_extension": ".py",
   "mimetype": "text/x-python",
   "name": "python",
   "nbconvert_exporter": "python",
   "pygments_lexer": "ipython2",
   "version": "2.7.6"
  }
 },
 "nbformat": 4,
 "nbformat_minor": 5
}
